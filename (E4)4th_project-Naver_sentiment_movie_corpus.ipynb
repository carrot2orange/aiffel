{
 "cells": [
  {
   "cell_type": "markdown",
   "metadata": {},
   "source": [
    "### 데이터 준비와 확인"
   ]
  },
  {
   "cell_type": "code",
   "execution_count": null,
   "metadata": {},
   "outputs": [],
   "source": [
    "#$ wget https://raw.githubusercontent.com/e9t/nsmc/master/ratings_train.txt\n",
    "#$ wget https://raw.githubusercontent.com/e9t/nsmc/master/ratings_test.txt\n",
    "#$ mv ratings_*.txt ~/aiffel/sentiment_classification"
   ]
  },
  {
   "cell_type": "code",
   "execution_count": 1,
   "metadata": {},
   "outputs": [
    {
     "data": {
      "text/html": [
       "<div>\n",
       "<style scoped>\n",
       "    .dataframe tbody tr th:only-of-type {\n",
       "        vertical-align: middle;\n",
       "    }\n",
       "\n",
       "    .dataframe tbody tr th {\n",
       "        vertical-align: top;\n",
       "    }\n",
       "\n",
       "    .dataframe thead th {\n",
       "        text-align: right;\n",
       "    }\n",
       "</style>\n",
       "<table border=\"1\" class=\"dataframe\">\n",
       "  <thead>\n",
       "    <tr style=\"text-align: right;\">\n",
       "      <th></th>\n",
       "      <th>id</th>\n",
       "      <th>document</th>\n",
       "      <th>label</th>\n",
       "    </tr>\n",
       "  </thead>\n",
       "  <tbody>\n",
       "    <tr>\n",
       "      <th>0</th>\n",
       "      <td>9976970</td>\n",
       "      <td>아 더빙.. 진짜 짜증나네요 목소리</td>\n",
       "      <td>0</td>\n",
       "    </tr>\n",
       "    <tr>\n",
       "      <th>1</th>\n",
       "      <td>3819312</td>\n",
       "      <td>흠...포스터보고 초딩영화줄....오버연기조차 가볍지 않구나</td>\n",
       "      <td>1</td>\n",
       "    </tr>\n",
       "    <tr>\n",
       "      <th>2</th>\n",
       "      <td>10265843</td>\n",
       "      <td>너무재밓었다그래서보는것을추천한다</td>\n",
       "      <td>0</td>\n",
       "    </tr>\n",
       "    <tr>\n",
       "      <th>3</th>\n",
       "      <td>9045019</td>\n",
       "      <td>교도소 이야기구먼 ..솔직히 재미는 없다..평점 조정</td>\n",
       "      <td>0</td>\n",
       "    </tr>\n",
       "    <tr>\n",
       "      <th>4</th>\n",
       "      <td>6483659</td>\n",
       "      <td>사이몬페그의 익살스런 연기가 돋보였던 영화!스파이더맨에서 늙어보이기만 했던 커스틴 ...</td>\n",
       "      <td>1</td>\n",
       "    </tr>\n",
       "  </tbody>\n",
       "</table>\n",
       "</div>"
      ],
      "text/plain": [
       "         id                                           document  label\n",
       "0   9976970                                아 더빙.. 진짜 짜증나네요 목소리      0\n",
       "1   3819312                  흠...포스터보고 초딩영화줄....오버연기조차 가볍지 않구나      1\n",
       "2  10265843                                  너무재밓었다그래서보는것을추천한다      0\n",
       "3   9045019                      교도소 이야기구먼 ..솔직히 재미는 없다..평점 조정      0\n",
       "4   6483659  사이몬페그의 익살스런 연기가 돋보였던 영화!스파이더맨에서 늙어보이기만 했던 커스틴 ...      1"
      ]
     },
     "execution_count": 1,
     "metadata": {},
     "output_type": "execute_result"
    }
   ],
   "source": [
    "import pandas as pd\n",
    "import urllib.request\n",
    "%matplotlib inline\n",
    "import matplotlib.pyplot as plt\n",
    "import re\n",
    "from konlpy.tag import Okt\n",
    "from tensorflow import keras\n",
    "from tensorflow.keras.preprocessing.text import Tokenizer\n",
    "import numpy as np\n",
    "from tensorflow.keras.preprocessing.sequence import pad_sequences\n",
    "from collections import Counter\n",
    "\n",
    "# 데이터를 읽어봅시다. \n",
    "train_data = pd.read_table('~/aiffel/sentiment_classification/ratings_train.txt')\n",
    "test_data = pd.read_table('~/aiffel/sentiment_classification/ratings_test.txt')\n",
    "\n",
    "train_data.head()"
   ]
  },
  {
   "cell_type": "markdown",
   "metadata": {},
   "source": [
    "### 데이터 로더 구성"
   ]
  },
  {
   "cell_type": "code",
   "execution_count": 2,
   "metadata": {},
   "outputs": [],
   "source": [
    "from konlpy.tag import Mecab\n",
    "tokenizer = Mecab()\n",
    "stopwords = ['의','가','이','은','들','는','좀','잘','걍','과','도','를','으로','자','에','와','한','하다']\n",
    "\n",
    "def load_data(train_data, test_data, num_words=10000):\n",
    "    # [[YOUR CODE]]\n",
    "    train_data.drop_duplicates(subset=['document'], inplace=True)\n",
    "    train_data = train_data.dropna(how = 'any') \n",
    "    test_data.drop_duplicates(subset=['document'], inplace=True)\n",
    "    test_data = test_data.dropna(how = 'any')\n",
    "    \n",
    "    X_train = []\n",
    "    for sentence in train_data['document']:\n",
    "        temp_X = tokenizer.morphs(sentence) # 토큰화\n",
    "        temp_X = [word for word in temp_X if not word in stopwords] # 불용어 제거\n",
    "        X_train.append(temp_X)\n",
    "\n",
    "    X_test = []\n",
    "    for sentence in test_data['document']:\n",
    "        temp_X = tokenizer.morphs(sentence) # 토큰화\n",
    "        temp_X = [word for word in temp_X if not word in stopwords] # 불용어 제거\n",
    "        X_test.append(temp_X)\n",
    "        \n",
    "    words = np.concatenate(X_train).tolist()\n",
    "    counter = Counter(words)\n",
    "    counter = counter.most_common(10000-4)\n",
    "    vocab = ['<PAD>', '<BOS>', '<UNK>', '<UNUSED>'] + [key for key, _ in counter]\n",
    "    word_to_index = {word:index for index, word in enumerate(vocab)}\n",
    "\n",
    "    def wordlist_to_indexlist(wordlist):\n",
    "        return [word_to_index[word] if word in word_to_index else word_to_index['<UNK>'] for word in wordlist]\n",
    "\n",
    "    X_train = list(map(wordlist_to_indexlist, X_train))\n",
    "    X_test = list(map(wordlist_to_indexlist, X_test))\n",
    "\n",
    "    return X_train, np.array(list(train_data['label'])), X_test, np.array(list(test_data['label'])), word_to_index\n",
    "    \n",
    "X_train, y_train, X_test, y_test, word_to_index = load_data(train_data, test_data)\n"
   ]
  },
  {
   "cell_type": "markdown",
   "metadata": {},
   "source": [
    "    - 데이터의 중복 제거\n",
    "    - NaN 결측치 제거\n",
    "    - 한국어 토크나이저로 토큰화\n",
    "    - 불용어(Stopwords) 제거\n",
    "    - 사전word_to_index 구성\n",
    "    - 텍스트 스트링을 사전 인덱스 스트링으로 변환\n",
    "    - X_train, y_train, X_test, y_test, word_to_index 리턴"
   ]
  },
  {
   "cell_type": "code",
   "execution_count": 3,
   "metadata": {},
   "outputs": [],
   "source": [
    "index_to_word = {index:word for word, index in word_to_index.items()}"
   ]
  },
  {
   "cell_type": "code",
   "execution_count": 4,
   "metadata": {},
   "outputs": [],
   "source": [
    "# 문장 1개를 활용할 딕셔너리와 함께 주면, 단어 인덱스 리스트 벡터로 변환해 주는 함수입니다. \n",
    "# 단, 모든 문장은 <BOS>로 시작하는 것으로 합니다. \n",
    "def get_encoded_sentence(sentence, word_to_index):\n",
    "    return [word_to_index['<BOS>']]+[word_to_index[word] if word in word_to_index else word_to_index['<UNK>'] for word in sentence.split()]\n",
    "\n",
    "# 여러 개의 문장 리스트를 한꺼번에 단어 인덱스 리스트 벡터로 encode해 주는 함수입니다. \n",
    "def get_encoded_sentences(sentences, word_to_index):\n",
    "    return [get_encoded_sentence(sentence, word_to_index) for sentence in sentences]\n",
    "\n",
    "# 숫자 벡터로 encode된 문장을 원래대로 decode하는 함수입니다. \n",
    "def get_decoded_sentence(encoded_sentence, index_to_word):\n",
    "    return ' '.join(index_to_word[index] if index in index_to_word else '<UNK>' for index in encoded_sentence[1:])  #[1:]를 통해 <BOS>를 제외\n",
    "\n",
    "# 여러개의 숫자 벡터로 encode된 문장을 한꺼번에 원래대로 decode하는 함수입니다. \n",
    "def get_decoded_sentences(encoded_sentences, index_to_word):\n",
    "    return [get_decoded_sentence(encoded_sentence, index_to_word) for encoded_sentence in encoded_sentences]"
   ]
  },
  {
   "cell_type": "markdown",
   "metadata": {},
   "source": [
    "### 모델구성을 위한 데이터 분석 및 가공"
   ]
  },
  {
   "cell_type": "markdown",
   "metadata": {},
   "source": [
    "#### 데이터셋 내 문장 길이 분포"
   ]
  },
  {
   "cell_type": "code",
   "execution_count": 5,
   "metadata": {},
   "outputs": [
    {
     "name": "stdout",
     "output_type": "stream",
     "text": [
      "[32, 74, 919, 4, 4, 39, 228, 20, 33, 748]\n",
      "[1028, 4, 11, 519, 549, 687, 5, 120, 4, 70, 1639, 52, 925, 1006, 15, 44, 391]\n",
      "라벨:  0\n",
      "라벨:  1\n",
      "1번째 리뷰 문장 길이:  10\n",
      "2번째 리뷰 문장 길이:  17\n"
     ]
    }
   ],
   "source": [
    "print(X_train[0])  # 1번째 리뷰데이터\n",
    "print(X_train[1])  # 2번째 리뷰데이터\n",
    "print('라벨: ', y_train[0])  # 1번째 리뷰데이터의 라벨\n",
    "print('라벨: ', y_train[1])  # 2번째 리뷰데이터의 라벨\n",
    "print('1번째 리뷰 문장 길이: ', len(X_train[0]))\n",
    "print('2번째 리뷰 문장 길이: ', len(X_train[1]))"
   ]
  },
  {
   "cell_type": "code",
   "execution_count": 7,
   "metadata": {},
   "outputs": [
    {
     "name": "stdout",
     "output_type": "stream",
     "text": [
      "문장길이 평균 :  15.969376315021577\n",
      "문장길이 최대 :  116\n",
      "문장길이 표준편차 :  12.843535456326455\n"
     ]
    }
   ],
   "source": [
    "total_data_text = list(X_train) + list(X_test)\n",
    "# 텍스트데이터 문장길이의 리스트를 생성한 후\n",
    "num_tokens = [len(tokens) for tokens in total_data_text]\n",
    "num_tokens = np.array(num_tokens)\n",
    "# 문장길이의 평균값, 최대값, 표준편차를 계산해 본다\n",
    "print('문장길이 평균 : ', np.mean(num_tokens))\n",
    "print('문장길이 최대 : ', np.max(num_tokens))\n",
    "print('문장길이 표준편차 : ', np.std(num_tokens))"
   ]
  },
  {
   "cell_type": "markdown",
   "metadata": {},
   "source": [
    "#### 적절한 최대 문장 길이 지정"
   ]
  },
  {
   "cell_type": "code",
   "execution_count": 8,
   "metadata": {},
   "outputs": [
    {
     "name": "stdout",
     "output_type": "stream",
     "text": [
      "pad_sequences maxlen :  41\n",
      "전체 문장의 93.43%가 maxlen 설정값 이내에 포함됩니다. \n"
     ]
    }
   ],
   "source": [
    "# 예를들어, 최대 길이를 (평균 + 2*표준편차)로 한다면,  \n",
    "max_tokens = np.mean(num_tokens) + 2 * np.std(num_tokens)\n",
    "maxlen = int(max_tokens)\n",
    "print('pad_sequences maxlen : ', maxlen)\n",
    "print('전체 문장의 {}%가 maxlen 설정값 이내에 포함됩니다. '.format(round(np.sum(num_tokens < max_tokens) / len(num_tokens)*100, 2) ))\n"
   ]
  },
  {
   "cell_type": "markdown",
   "metadata": {},
   "source": [
    "#### keras.preprocessing.sequence.pad_sequences 을 활용한 패딩 추가"
   ]
  },
  {
   "cell_type": "code",
   "execution_count": 9,
   "metadata": {},
   "outputs": [],
   "source": [
    "X_train = keras.preprocessing.sequence.pad_sequences(X_train,\n",
    "                                                        value=word_to_index[\"<PAD>\"],\n",
    "                                                        padding='pre', # 혹은 'post'\n",
    "                                                        maxlen=maxlen)\n",
    "\n",
    "X_test = keras.preprocessing.sequence.pad_sequences(X_test,\n",
    "                                                       value=word_to_index[\"<PAD>\"],\n",
    "                                                       padding='pre', # 혹은 'post'\n",
    "                                                       maxlen=maxlen)\n"
   ]
  },
  {
   "cell_type": "code",
   "execution_count": 10,
   "metadata": {},
   "outputs": [
    {
     "name": "stdout",
     "output_type": "stream",
     "text": [
      "문장길이 평균 :  41.0\n",
      "문장길이 최대 :  41\n",
      "문장길이 표준편차 :  0.0\n"
     ]
    }
   ],
   "source": [
    "# 문장길이의 평균값, 최대값, 표준편차를 다시 계산해본다.\n",
    "total_data_text = list(X_train) + list(X_test)\n",
    "# 텍스트데이터 문장길이의 리스트를 생성한 후\n",
    "num_tokens = [len(tokens) for tokens in total_data_text]\n",
    "num_tokens = np.array(num_tokens)\n",
    "print('문장길이 평균 : ', np.mean(num_tokens))\n",
    "print('문장길이 최대 : ', np.max(num_tokens))\n",
    "print('문장길이 표준편차 : ', np.std(num_tokens))"
   ]
  },
  {
   "cell_type": "markdown",
   "metadata": {},
   "source": [
    "### 모델구성 및 validation set 구성"
   ]
  },
  {
   "cell_type": "markdown",
   "metadata": {},
   "source": [
    "#### 1-D Convolutional Neural Network(1-D CNN) 모델"
   ]
  },
  {
   "cell_type": "code",
   "execution_count": 11,
   "metadata": {},
   "outputs": [
    {
     "name": "stdout",
     "output_type": "stream",
     "text": [
      "Model: \"sequential\"\n",
      "_________________________________________________________________\n",
      "Layer (type)                 Output Shape              Param #   \n",
      "=================================================================\n",
      "embedding (Embedding)        (None, None, 16)          160000    \n",
      "_________________________________________________________________\n",
      "conv1d (Conv1D)              (None, None, 16)          1808      \n",
      "_________________________________________________________________\n",
      "max_pooling1d (MaxPooling1D) (None, None, 16)          0         \n",
      "_________________________________________________________________\n",
      "conv1d_1 (Conv1D)            (None, None, 16)          1808      \n",
      "_________________________________________________________________\n",
      "global_max_pooling1d (Global (None, 16)                0         \n",
      "_________________________________________________________________\n",
      "dense (Dense)                (None, 8)                 136       \n",
      "_________________________________________________________________\n",
      "dense_1 (Dense)              (None, 1)                 9         \n",
      "=================================================================\n",
      "Total params: 163,761\n",
      "Trainable params: 163,761\n",
      "Non-trainable params: 0\n",
      "_________________________________________________________________\n"
     ]
    }
   ],
   "source": [
    "vocab_size = 10000    # 어휘 사전의 크기입니다(10,000개의 단어)\n",
    "word_vector_dim = 16  # 워드 벡터의 차원수 (변경가능한 하이퍼파라미터)\n",
    "\n",
    "Cnn_model = keras.Sequential()\n",
    "Cnn_model.add(keras.layers.Embedding(vocab_size, word_vector_dim, input_shape=(None,)))\n",
    "Cnn_model.add(keras.layers.Conv1D(16, 7, activation='relu'))\n",
    "Cnn_model.add(keras.layers.MaxPooling1D(5))\n",
    "Cnn_model.add(keras.layers.Conv1D(16, 7, activation='relu'))\n",
    "Cnn_model.add(keras.layers.GlobalMaxPooling1D())\n",
    "Cnn_model.add(keras.layers.Dense(8, activation='relu'))\n",
    "Cnn_model.add(keras.layers.Dense(1, activation='sigmoid'))  # 최종 출력은 긍정/부정을 나타내는 1dim 입니다.\n",
    "\n",
    "Cnn_model.summary()\n"
   ]
  },
  {
   "cell_type": "markdown",
   "metadata": {},
   "source": [
    "#### Embed 모델"
   ]
  },
  {
   "cell_type": "markdown",
   "metadata": {},
   "source": [
    "##### Google의 Word2Vec 모델을 가져와 적용"
   ]
  },
  {
   "cell_type": "code",
   "execution_count": 13,
   "metadata": {},
   "outputs": [
    {
     "data": {
      "text/plain": [
       "array([ 0.10302734, -0.15234375,  0.02587891,  0.16503906, -0.16503906,\n",
       "        0.06689453,  0.29296875, -0.26367188, -0.140625  ,  0.20117188,\n",
       "       -0.02624512, -0.08203125, -0.02770996, -0.04394531, -0.23535156,\n",
       "        0.16992188,  0.12890625,  0.15722656,  0.00756836, -0.06982422,\n",
       "       -0.03857422,  0.07958984,  0.22949219, -0.14355469,  0.16796875,\n",
       "       -0.03515625,  0.05517578,  0.10693359,  0.11181641, -0.16308594,\n",
       "       -0.11181641,  0.13964844,  0.01556396,  0.12792969,  0.15429688,\n",
       "        0.07714844,  0.26171875,  0.08642578, -0.02514648,  0.33398438,\n",
       "        0.18652344, -0.20996094,  0.07080078,  0.02600098, -0.10644531,\n",
       "       -0.10253906,  0.12304688,  0.04711914,  0.02209473,  0.05834961,\n",
       "       -0.10986328,  0.14941406, -0.10693359,  0.01556396,  0.08984375,\n",
       "        0.11230469, -0.04370117, -0.11376953, -0.0037384 , -0.01818848,\n",
       "        0.24316406,  0.08447266, -0.07080078,  0.18066406,  0.03515625,\n",
       "       -0.09667969, -0.21972656, -0.00328064, -0.03198242,  0.18457031,\n",
       "        0.28515625, -0.0859375 , -0.11181641,  0.0213623 , -0.30664062,\n",
       "       -0.09228516, -0.18945312,  0.01513672,  0.18554688,  0.34375   ,\n",
       "       -0.31054688,  0.22558594,  0.08740234, -0.2265625 , -0.29492188,\n",
       "        0.08251953, -0.38476562,  0.25390625,  0.26953125,  0.06298828,\n",
       "       -0.00958252,  0.23632812, -0.17871094, -0.12451172, -0.17285156,\n",
       "       -0.11767578,  0.19726562, -0.03466797, -0.10400391, -0.1640625 ,\n",
       "       -0.19726562,  0.19824219,  0.09521484,  0.00561523,  0.12597656,\n",
       "        0.00073624, -0.0402832 , -0.03063965,  0.01623535, -0.1640625 ,\n",
       "       -0.22167969,  0.171875  ,  0.12011719, -0.01965332,  0.4453125 ,\n",
       "        0.06494141,  0.05932617, -0.1640625 , -0.01367188,  0.18945312,\n",
       "        0.05566406, -0.05004883, -0.01422119,  0.15917969,  0.07421875,\n",
       "       -0.31640625, -0.0534668 , -0.02355957, -0.16992188,  0.0625    ,\n",
       "       -0.140625  , -0.13183594, -0.12792969,  0.12060547,  0.05883789,\n",
       "       -0.00055695,  0.05761719, -0.08447266,  0.16992188,  0.13671875,\n",
       "       -0.09375   ,  0.08056641, -0.04003906, -0.03759766, -0.26367188,\n",
       "        0.00662231, -0.01928711,  0.09423828, -0.13183594, -0.27929688,\n",
       "        0.27734375,  0.31835938,  0.10058594,  0.11425781, -0.27734375,\n",
       "        0.11035156, -0.06982422, -0.0859375 , -0.11132812, -0.27929688,\n",
       "       -0.07763672,  0.05102539, -0.06176758,  0.44921875,  0.01867676,\n",
       "       -0.15039062,  0.13671875, -0.15039062, -0.2265625 ,  0.11914062,\n",
       "        0.06005859, -0.0390625 , -0.10839844,  0.02905273,  0.02331543,\n",
       "        0.13183594,  0.01000977,  0.03149414, -0.12597656, -0.13671875,\n",
       "       -0.30664062, -0.28515625,  0.09863281, -0.00564575, -0.08398438,\n",
       "       -0.16015625, -0.14453125, -0.18261719,  0.10009766,  0.04345703,\n",
       "        0.10644531,  0.16503906,  0.06298828,  0.17578125,  0.15820312,\n",
       "        0.125     ,  0.171875  , -0.05664062, -0.09033203, -0.21289062,\n",
       "       -0.0390625 , -0.03320312, -0.18652344, -0.18945312, -0.01818848,\n",
       "       -0.03051758, -0.17675781,  0.15234375,  0.01953125,  0.01696777,\n",
       "       -0.10839844,  0.18066406,  0.00497437, -0.11621094, -0.19824219,\n",
       "       -0.19140625,  0.21386719,  0.08984375, -0.16308594, -0.00325012,\n",
       "       -0.07128906,  0.08251953,  0.02160645,  0.10107422, -0.29101562,\n",
       "       -0.04785156, -0.03369141, -0.14453125, -0.06396484, -0.12451172,\n",
       "       -0.24804688,  0.09277344,  0.01165771,  0.24707031,  0.3828125 ,\n",
       "        0.02429199, -0.12255859,  0.00259399, -0.015625  ,  0.00540161,\n",
       "        0.04736328, -0.00744629, -0.18261719,  0.21972656, -0.16601562,\n",
       "        0.359375  ,  0.05297852, -0.03808594, -0.10400391, -0.18457031,\n",
       "        0.07470703,  0.2734375 ,  0.28320312,  0.15234375,  0.05126953,\n",
       "       -0.15429688, -0.15722656, -0.21582031, -0.19824219,  0.09960938,\n",
       "       -0.09179688,  0.07519531, -0.02441406,  0.17382812, -0.11279297,\n",
       "        0.00219727,  0.07470703, -0.02307129,  0.08642578,  0.16601562,\n",
       "        0.07763672,  0.14746094,  0.15429688,  0.11425781,  0.14550781,\n",
       "       -0.24023438, -0.2109375 ,  0.07421875, -0.14746094, -0.08642578,\n",
       "        0.16113281, -0.07128906,  0.109375  ,  0.17675781,  0.18554688,\n",
       "       -0.15820312, -0.2265625 ,  0.15039062, -0.08544922,  0.09130859,\n",
       "       -0.03198242,  0.13476562, -0.15136719, -0.42773438, -0.03442383,\n",
       "       -0.27929688,  0.125     , -0.19824219, -0.12304688,  0.06494141],\n",
       "      dtype=float32)"
      ]
     },
     "execution_count": 13,
     "metadata": {},
     "output_type": "execute_result"
    }
   ],
   "source": [
    "from gensim.models import KeyedVectors\n",
    "import os\n",
    "word2vec_path = os.getenv('HOME')+'/aiffel/sentiment_classification/GoogleNews-vectors-negative300.bin.gz'\n",
    "word2vec = KeyedVectors.load_word2vec_format(word2vec_path, binary=True)\n",
    "vector = word2vec['love']\n",
    "vector     # 무려 300dim의 워드 벡터입니다."
   ]
  },
  {
   "cell_type": "markdown",
   "metadata": {},
   "source": [
    "##### embeddin_matrix 생성"
   ]
  },
  {
   "cell_type": "code",
   "execution_count": 14,
   "metadata": {},
   "outputs": [],
   "source": [
    "vocab_size = 10000    # 어휘 사전의 크기입니다(10,000개의 단어)\n",
    "word_vector_dim = 300  # 워드 벡터의 차원수 (변경가능한 하이퍼파라미터)\n",
    "\n",
    "embedding_matrix = np.random.rand(vocab_size, word_vector_dim)\n",
    "\n",
    "# embedding_matrix에 Word2Vec 워드벡터를 단어 하나씩마다 차례차례 카피한다.\n",
    "for i in range(4,vocab_size):\n",
    "    if index_to_word[i] in word2vec:\n",
    "        embedding_matrix[i] = word2vec[index_to_word[i]]"
   ]
  },
  {
   "cell_type": "code",
   "execution_count": 15,
   "metadata": {},
   "outputs": [
    {
     "name": "stdout",
     "output_type": "stream",
     "text": [
      "Model: \"sequential_1\"\n",
      "_________________________________________________________________\n",
      "Layer (type)                 Output Shape              Param #   \n",
      "=================================================================\n",
      "embedding_1 (Embedding)      (None, 41, 300)           3000000   \n",
      "_________________________________________________________________\n",
      "conv1d_2 (Conv1D)            (None, 35, 16)            33616     \n",
      "_________________________________________________________________\n",
      "max_pooling1d_1 (MaxPooling1 (None, 7, 16)             0         \n",
      "_________________________________________________________________\n",
      "conv1d_3 (Conv1D)            (None, 1, 16)             1808      \n",
      "_________________________________________________________________\n",
      "global_max_pooling1d_1 (Glob (None, 16)                0         \n",
      "_________________________________________________________________\n",
      "dense_2 (Dense)              (None, 8)                 136       \n",
      "_________________________________________________________________\n",
      "dense_3 (Dense)              (None, 1)                 9         \n",
      "=================================================================\n",
      "Total params: 3,035,569\n",
      "Trainable params: 3,035,569\n",
      "Non-trainable params: 0\n",
      "_________________________________________________________________\n"
     ]
    }
   ],
   "source": [
    "from tensorflow.keras.initializers import Constant\n",
    "\n",
    "vocab_size = 10000    # 어휘 사전의 크기입니다(10,000개의 단어)\n",
    "word_vector_dim = 300  # 워드 벡터의 차원수 (변경가능한 하이퍼파라미터)\n",
    "\n",
    "# 모델 구성\n",
    "Embed_model = keras.Sequential()\n",
    "Embed_model.add(keras.layers.Embedding(vocab_size, \n",
    "                                 word_vector_dim, \n",
    "                                 embeddings_initializer=Constant(embedding_matrix),  # 카피한 임베딩을 여기서 활용\n",
    "                                 input_length=maxlen, \n",
    "                                 trainable=True))   # trainable을 True로 주면 Fine-tuning\n",
    "Embed_model.add(keras.layers.Conv1D(16, 7, activation='relu'))\n",
    "Embed_model.add(keras.layers.MaxPooling1D(5))\n",
    "Embed_model.add(keras.layers.Conv1D(16, 7, activation='relu'))\n",
    "Embed_model.add(keras.layers.GlobalMaxPooling1D())\n",
    "Embed_model.add(keras.layers.Dense(8, activation='relu'))\n",
    "Embed_model.add(keras.layers.Dense(1, activation='sigmoid')) \n",
    "\n",
    "Embed_model.summary()\n"
   ]
  },
  {
   "cell_type": "markdown",
   "metadata": {},
   "source": [
    "#### validation set 구성"
   ]
  },
  {
   "cell_type": "code",
   "execution_count": 16,
   "metadata": {},
   "outputs": [
    {
     "name": "stdout",
     "output_type": "stream",
     "text": [
      "(146182, 41)\n",
      "(86182, 41)\n",
      "(86182,)\n",
      "(60000, 41)\n",
      "(60000,)\n"
     ]
    }
   ],
   "source": [
    "# 3:2의 비율로 train 과 valid 데이터를 나눠줍니다.\n",
    "# validation set 60000건 분리\n",
    "X_val = X_train[:60000]   \n",
    "y_val = y_train[:60000]\n",
    "\n",
    "# validation set을 제외한 나머지 86182건\n",
    "partial_X_train = X_train[60000:]  \n",
    "partial_y_train = y_train[60000:]\n",
    "\n",
    "print(X_train.shape)\n",
    "print(partial_X_train.shape)\n",
    "print(partial_y_train.shape)\n",
    "print(X_val.shape)\n",
    "print(y_val.shape)"
   ]
  },
  {
   "cell_type": "markdown",
   "metadata": {},
   "source": [
    "### 모델 훈련 개시"
   ]
  },
  {
   "cell_type": "markdown",
   "metadata": {},
   "source": [
    "#### 1D CNN 모델 훈련"
   ]
  },
  {
   "cell_type": "code",
   "execution_count": 18,
   "metadata": {},
   "outputs": [
    {
     "name": "stdout",
     "output_type": "stream",
     "text": [
      "Epoch 1/20\n",
      "169/169 [==============================] - 1s 6ms/step - loss: 0.0291 - accuracy: 0.9923 - val_loss: 0.9745 - val_accuracy: 0.8126\n",
      "Epoch 2/20\n",
      "169/169 [==============================] - 1s 5ms/step - loss: 0.0250 - accuracy: 0.9931 - val_loss: 1.0531 - val_accuracy: 0.8116\n",
      "Epoch 3/20\n",
      "169/169 [==============================] - 1s 5ms/step - loss: 0.0233 - accuracy: 0.9936 - val_loss: 1.0933 - val_accuracy: 0.8129\n",
      "Epoch 4/20\n",
      "169/169 [==============================] - 1s 5ms/step - loss: 0.0200 - accuracy: 0.9943 - val_loss: 1.1614 - val_accuracy: 0.8105\n",
      "Epoch 5/20\n",
      "169/169 [==============================] - 1s 5ms/step - loss: 0.0212 - accuracy: 0.9939 - val_loss: 1.1937 - val_accuracy: 0.8113\n",
      "Epoch 6/20\n",
      "169/169 [==============================] - 1s 5ms/step - loss: 0.0181 - accuracy: 0.9948 - val_loss: 1.1985 - val_accuracy: 0.8083\n",
      "Epoch 7/20\n",
      "169/169 [==============================] - 1s 5ms/step - loss: 0.0190 - accuracy: 0.9947 - val_loss: 1.2821 - val_accuracy: 0.8094\n",
      "Epoch 8/20\n",
      "169/169 [==============================] - 1s 5ms/step - loss: 0.0184 - accuracy: 0.9947 - val_loss: 1.2704 - val_accuracy: 0.8057\n",
      "Epoch 9/20\n",
      "169/169 [==============================] - 1s 6ms/step - loss: 0.0163 - accuracy: 0.9948 - val_loss: 1.3234 - val_accuracy: 0.8066\n",
      "Epoch 10/20\n",
      "169/169 [==============================] - 1s 6ms/step - loss: 0.0145 - accuracy: 0.9957 - val_loss: 1.3747 - val_accuracy: 0.8040\n",
      "Epoch 11/20\n",
      "169/169 [==============================] - 1s 5ms/step - loss: 0.0149 - accuracy: 0.9952 - val_loss: 1.4640 - val_accuracy: 0.8049\n",
      "Epoch 12/20\n",
      "169/169 [==============================] - 1s 5ms/step - loss: 0.0156 - accuracy: 0.9950 - val_loss: 1.4606 - val_accuracy: 0.8034\n",
      "Epoch 13/20\n",
      "169/169 [==============================] - 1s 6ms/step - loss: 0.0136 - accuracy: 0.9960 - val_loss: 1.4136 - val_accuracy: 0.8043\n",
      "Epoch 14/20\n",
      "169/169 [==============================] - 1s 5ms/step - loss: 0.0135 - accuracy: 0.9955 - val_loss: 1.4915 - val_accuracy: 0.8025\n",
      "Epoch 15/20\n",
      "169/169 [==============================] - 1s 5ms/step - loss: 0.0118 - accuracy: 0.9962 - val_loss: 1.5318 - val_accuracy: 0.8041\n",
      "Epoch 16/20\n",
      "169/169 [==============================] - 1s 5ms/step - loss: 0.0149 - accuracy: 0.9950 - val_loss: 1.5586 - val_accuracy: 0.8046\n",
      "Epoch 17/20\n",
      "169/169 [==============================] - 1s 5ms/step - loss: 0.0135 - accuracy: 0.9952 - val_loss: 1.5280 - val_accuracy: 0.8045\n",
      "Epoch 18/20\n",
      "169/169 [==============================] - 1s 5ms/step - loss: 0.0157 - accuracy: 0.9946 - val_loss: 1.6610 - val_accuracy: 0.8018\n",
      "Epoch 19/20\n",
      "169/169 [==============================] - 1s 6ms/step - loss: 0.0156 - accuracy: 0.9942 - val_loss: 1.6217 - val_accuracy: 0.8019\n",
      "Epoch 20/20\n",
      "169/169 [==============================] - 1s 6ms/step - loss: 0.0143 - accuracy: 0.9952 - val_loss: 1.6114 - val_accuracy: 0.8026\n"
     ]
    }
   ],
   "source": [
    "Cnn_model.compile(optimizer='adam',\n",
    "              loss='binary_crossentropy',\n",
    "              metrics=['accuracy'])\n",
    "              \n",
    "epochs=20  # 몇 epoch를 훈련하면 좋을지 결과를 보면서 바꾸어 봅시다. \n",
    "\n",
    "Cnn_history = Cnn_model.fit(partial_X_train,\n",
    "                    partial_y_train,\n",
    "                    epochs=epochs,\n",
    "                    batch_size=512,\n",
    "                    validation_data=(X_val, y_val),\n",
    "                    verbose=1)"
   ]
  },
  {
   "cell_type": "code",
   "execution_count": 19,
   "metadata": {},
   "outputs": [
    {
     "name": "stdout",
     "output_type": "stream",
     "text": [
      "1537/1537 - 0s - loss: 1.6311 - accuracy: 0.7994\n",
      "[1.6311062574386597, 0.7993978261947632]\n"
     ]
    }
   ],
   "source": [
    "results = Cnn_model.evaluate(X_test,  y_test, verbose=2)\n",
    "\n",
    "print(results)\n"
   ]
  },
  {
   "cell_type": "markdown",
   "metadata": {},
   "source": [
    "#### Embed 모델 훈련"
   ]
  },
  {
   "cell_type": "code",
   "execution_count": 20,
   "metadata": {},
   "outputs": [
    {
     "name": "stdout",
     "output_type": "stream",
     "text": [
      "Epoch 1/20\n",
      "169/169 [==============================] - 13s 77ms/step - loss: 0.7005 - accuracy: 0.5033 - val_loss: 0.6928 - val_accuracy: 0.5089\n",
      "Epoch 2/20\n",
      "169/169 [==============================] - 14s 81ms/step - loss: 0.6912 - accuracy: 0.5256 - val_loss: 0.6227 - val_accuracy: 0.7328\n",
      "Epoch 3/20\n",
      "169/169 [==============================] - 13s 77ms/step - loss: 0.5025 - accuracy: 0.7728 - val_loss: 0.4197 - val_accuracy: 0.8135\n",
      "Epoch 4/20\n",
      "169/169 [==============================] - 13s 76ms/step - loss: 0.3407 - accuracy: 0.8560 - val_loss: 0.3800 - val_accuracy: 0.8354\n",
      "Epoch 5/20\n",
      "169/169 [==============================] - 13s 79ms/step - loss: 0.2948 - accuracy: 0.8801 - val_loss: 0.3950 - val_accuracy: 0.8293\n",
      "Epoch 6/20\n",
      "169/169 [==============================] - 13s 77ms/step - loss: 0.2615 - accuracy: 0.8961 - val_loss: 0.3793 - val_accuracy: 0.8361\n",
      "Epoch 7/20\n",
      "169/169 [==============================] - 13s 78ms/step - loss: 0.2306 - accuracy: 0.9109 - val_loss: 0.3900 - val_accuracy: 0.8346\n",
      "Epoch 8/20\n",
      "169/169 [==============================] - 13s 77ms/step - loss: 0.2066 - accuracy: 0.9233 - val_loss: 0.4405 - val_accuracy: 0.8206\n",
      "Epoch 9/20\n",
      "169/169 [==============================] - 13s 77ms/step - loss: 0.1905 - accuracy: 0.9294 - val_loss: 0.4259 - val_accuracy: 0.8326\n",
      "Epoch 10/20\n",
      "169/169 [==============================] - 13s 76ms/step - loss: 0.1580 - accuracy: 0.9453 - val_loss: 0.4591 - val_accuracy: 0.8305\n",
      "Epoch 11/20\n",
      "169/169 [==============================] - 13s 79ms/step - loss: 0.1397 - accuracy: 0.9522 - val_loss: 0.4843 - val_accuracy: 0.8235\n",
      "Epoch 12/20\n",
      "169/169 [==============================] - 14s 80ms/step - loss: 0.1249 - accuracy: 0.9594 - val_loss: 0.5110 - val_accuracy: 0.8274\n",
      "Epoch 13/20\n",
      "169/169 [==============================] - 13s 79ms/step - loss: 0.1097 - accuracy: 0.9643 - val_loss: 0.5638 - val_accuracy: 0.8213\n",
      "Epoch 14/20\n",
      "169/169 [==============================] - 13s 77ms/step - loss: 0.0982 - accuracy: 0.9689 - val_loss: 0.5726 - val_accuracy: 0.8229\n",
      "Epoch 15/20\n",
      "169/169 [==============================] - 13s 77ms/step - loss: 0.0892 - accuracy: 0.9725 - val_loss: 0.5842 - val_accuracy: 0.8205\n",
      "Epoch 16/20\n",
      "169/169 [==============================] - 13s 79ms/step - loss: 0.0758 - accuracy: 0.9779 - val_loss: 0.6591 - val_accuracy: 0.8158\n",
      "Epoch 17/20\n",
      "169/169 [==============================] - 13s 77ms/step - loss: 0.0756 - accuracy: 0.9760 - val_loss: 0.6448 - val_accuracy: 0.8150\n",
      "Epoch 18/20\n",
      "169/169 [==============================] - 13s 77ms/step - loss: 0.0639 - accuracy: 0.9810 - val_loss: 0.6782 - val_accuracy: 0.8168\n",
      "Epoch 19/20\n",
      "169/169 [==============================] - 13s 79ms/step - loss: 0.0599 - accuracy: 0.9823 - val_loss: 0.6888 - val_accuracy: 0.8102\n",
      "Epoch 20/20\n",
      "169/169 [==============================] - 13s 77ms/step - loss: 0.0816 - accuracy: 0.9719 - val_loss: 0.7528 - val_accuracy: 0.8145\n"
     ]
    }
   ],
   "source": [
    "Embed_model.compile(optimizer='adam',\n",
    "              loss='binary_crossentropy',\n",
    "              metrics=['accuracy'])\n",
    "              \n",
    "epochs=20  # 몇 epoch를 훈련하면 좋을지 결과를 보면서 바꾸어 봅시다. \n",
    "\n",
    "Embed_history = Embed_model.fit(partial_X_train,\n",
    "                    partial_y_train,\n",
    "                    epochs=epochs,\n",
    "                    batch_size=512,\n",
    "                    validation_data=(X_val, y_val),\n",
    "                    verbose=1)"
   ]
  },
  {
   "cell_type": "code",
   "execution_count": 21,
   "metadata": {},
   "outputs": [
    {
     "name": "stdout",
     "output_type": "stream",
     "text": [
      "1537/1537 - 1s - loss: 0.7664 - accuracy: 0.8099\n",
      "[0.7663635611534119, 0.8098948001861572]\n"
     ]
    }
   ],
   "source": [
    "results = Embed_model.evaluate(X_test,  y_test, verbose=2)\n",
    "\n",
    "print(results)"
   ]
  },
  {
   "cell_type": "markdown",
   "metadata": {},
   "source": [
    "### Loss, Accuracy 그래프 시각화"
   ]
  },
  {
   "cell_type": "markdown",
   "metadata": {},
   "source": [
    "#### 1D CNN model 그래프 시각화"
   ]
  },
  {
   "cell_type": "code",
   "execution_count": 23,
   "metadata": {},
   "outputs": [
    {
     "name": "stdout",
     "output_type": "stream",
     "text": [
      "dict_keys(['loss', 'accuracy', 'val_loss', 'val_accuracy'])\n"
     ]
    }
   ],
   "source": [
    "Cnn_history_dict = Cnn_history.history\n",
    "print(Cnn_history_dict.keys())"
   ]
  },
  {
   "cell_type": "code",
   "execution_count": 24,
   "metadata": {},
   "outputs": [
    {
     "data": {
      "image/png": "[encoded data removed]",
      "text/plain": [
       "<Figure size 432x288 with 1 Axes>"
      ]
     },
     "metadata": {
      "needs_background": "light"
     },
     "output_type": "display_data"
    }
   ],
   "source": [
    "import matplotlib.pyplot as plt\n",
    "\n",
    "acc = Cnn_history_dict['accuracy']\n",
    "val_acc = Cnn_history_dict['val_accuracy']\n",
    "loss = Cnn_history_dict['loss']\n",
    "val_loss = Cnn_history_dict['val_loss']\n",
    "\n",
    "epochs = range(1, len(acc) + 1)\n",
    "\n",
    "# \"bo\"는 \"파란색 점\"입니다\n",
    "plt.plot(epochs, loss, 'bo', label='Training loss')\n",
    "# b는 \"파란 실선\"입니다\n",
    "plt.plot(epochs, val_loss, 'b', label='Validation loss')\n",
    "plt.title('Training and validation loss')\n",
    "plt.xlabel('Epochs')\n",
    "plt.ylabel('Loss')\n",
    "plt.legend()\n",
    "\n",
    "plt.show()"
   ]
  },
  {
   "cell_type": "markdown",
   "metadata": {},
   "source": [
    "Training loss는 지속적으로 줄어들지만, Validation loss는 급격하게 상승하고 있습니다."
   ]
  },
  {
   "cell_type": "code",
   "execution_count": 25,
   "metadata": {},
   "outputs": [
    {
     "data": {
      "image/png": "[encoded data removed]",
      "text/plain": [
       "<Figure size 432x288 with 1 Axes>"
      ]
     },
     "metadata": {
      "needs_background": "light"
     },
     "output_type": "display_data"
    }
   ],
   "source": [
    "plt.clf()   # 그림을 초기화합니다\n",
    "\n",
    "plt.plot(epochs, acc, 'bo', label='Training acc')\n",
    "plt.plot(epochs, val_acc, 'b', label='Validation acc')\n",
    "plt.title('Training and validation accuracy')\n",
    "plt.xlabel('Epochs')\n",
    "plt.ylabel('Accuracy')\n",
    "plt.legend()\n",
    "\n",
    "plt.show()\n",
    "\n"
   ]
  },
  {
   "cell_type": "markdown",
   "metadata": {},
   "source": [
    "정확도의 측면에서 보니 모델 성능이 안좋은 모습을 더욱 확실하게 볼 수 있습니다."
   ]
  },
  {
   "cell_type": "markdown",
   "metadata": {},
   "source": [
    "#### Embed model 그래프 시각화"
   ]
  },
  {
   "cell_type": "code",
   "execution_count": 26,
   "metadata": {},
   "outputs": [
    {
     "name": "stdout",
     "output_type": "stream",
     "text": [
      "dict_keys(['loss', 'accuracy', 'val_loss', 'val_accuracy'])\n"
     ]
    }
   ],
   "source": [
    "Embed_history_dict = Embed_history.history\n",
    "print(Embed_history_dict.keys())"
   ]
  },
  {
   "cell_type": "code",
   "execution_count": 27,
   "metadata": {},
   "outputs": [
    {
     "data": {
      "image/png": "[encoded data removed]",
      "text/plain": [
       "<Figure size 432x288 with 1 Axes>"
      ]
     },
     "metadata": {
      "needs_background": "light"
     },
     "output_type": "display_data"
    }
   ],
   "source": [
    "acc = Embed_history_dict['accuracy']\n",
    "val_acc = Embed_history_dict['val_accuracy']\n",
    "loss = Embed_history_dict['loss']\n",
    "val_loss = Embed_history_dict['val_loss']\n",
    "\n",
    "epochs = range(1, len(acc) + 1)\n",
    "\n",
    "# \"bo\"는 \"파란색 점\"입니다\n",
    "plt.plot(epochs, loss, 'bo', label='Training loss')\n",
    "# b는 \"파란 실선\"입니다\n",
    "plt.plot(epochs, val_loss, 'b', label='Validation loss')\n",
    "plt.title('Training and validation loss')\n",
    "plt.xlabel('Epochs')\n",
    "plt.ylabel('Loss')\n",
    "plt.legend()\n",
    "\n",
    "plt.show()\n"
   ]
  },
  {
   "cell_type": "code",
   "execution_count": 28,
   "metadata": {},
   "outputs": [
    {
     "data": {
      "image/png": "[encoded data removed]",
      "text/plain": [
       "<Figure size 432x288 with 1 Axes>"
      ]
     },
     "metadata": {
      "needs_background": "light"
     },
     "output_type": "display_data"
    }
   ],
   "source": [
    "plt.clf()   # 그림을 초기화합니다\n",
    "\n",
    "plt.plot(epochs, acc, 'bo', label='Training acc')\n",
    "plt.plot(epochs, val_acc, 'b', label='Validation acc')\n",
    "plt.title('Training and validation accuracy')\n",
    "plt.xlabel('Epochs')\n",
    "plt.ylabel('Accuracy')\n",
    "plt.legend()\n",
    "\n",
    "plt.show()"
   ]
  },
  {
   "cell_type": "markdown",
   "metadata": {},
   "source": [
    "### 학습된 Embedding 레이어 분석"
   ]
  },
  {
   "cell_type": "code",
   "execution_count": 29,
   "metadata": {},
   "outputs": [
    {
     "name": "stdout",
     "output_type": "stream",
     "text": [
      "(10000, 16)\n"
     ]
    }
   ],
   "source": [
    "embedding_layer = Cnn_model.layers[0]\n",
    "weights = embedding_layer.get_weights()[0]\n",
    "print(weights.shape)    # shape: (vocab_size, embedding_dim)"
   ]
  },
  {
   "cell_type": "code",
   "execution_count": 30,
   "metadata": {},
   "outputs": [
    {
     "name": "stdout",
     "output_type": "stream",
     "text": [
      "(10000, 300)\n"
     ]
    }
   ],
   "source": [
    "embedding_layer = Embed_model.layers[0]\n",
    "weights = embedding_layer.get_weights()[0]\n",
    "print(weights.shape)    # shape: (vocab_size, embedding_dim)"
   ]
  },
  {
   "cell_type": "markdown",
   "metadata": {},
   "source": [
    "#### 학습 파라미터 저장"
   ]
  },
  {
   "cell_type": "code",
   "execution_count": 39,
   "metadata": {},
   "outputs": [],
   "source": [
    "import os\n",
    "word_vector_dim = 16\n",
    "# 학습한 Embedding 파라미터를 파일에 써서 저장합니다. \n",
    "Rnn_word2vec_file_path = os.getenv('HOME')+'/aiffel/sentiment_classification/rnn_word2vec.txt'\n",
    "f = open(Rnn_word2vec_file_path, 'w')\n",
    "f.write('{} {}\\n'.format(vocab_size-4, word_vector_dim))  # 몇개의 벡터를 얼마 사이즈로 기재할지 타이틀을 씁니다.\n",
    "\n",
    "# 단어 개수(에서 특수문자 4개는 제외하고)만큼의 워드 벡터를 파일에 기록합니다. \n",
    "vectors = Cnn_model.get_weights()[0]\n",
    "for i in range(4,vocab_size):\n",
    "    f.write('{} {}\\n'.format(index_to_word[i], ' '.join(map(str, list(vectors[i, :])))))"
   ]
  },
  {
   "cell_type": "code",
   "execution_count": 40,
   "metadata": {},
   "outputs": [],
   "source": [
    "# 학습한 Embedding 파라미터를 파일에 써서 저장합니다. \n",
    "word_vector_dim = 300\n",
    "Embed_word2vec_file_path = os.getenv('HOME')+'/aiffel/sentiment_classification/Embed_word2vec.txt'\n",
    "f = open(Embed_word2vec_file_path, 'w')\n",
    "f.write('{} {}\\n'.format(vocab_size-4, word_vector_dim))  # 몇개의 벡터를 얼마 사이즈로 기재할지 타이틀을 씁니다.\n",
    "\n",
    "# 단어 개수(에서 특수문자 4개는 제외하고)만큼의 워드 벡터를 파일에 기록합니다. \n",
    "vectors = Embed_model.get_weights()[0]\n",
    "for i in range(4,vocab_size):\n",
    "    f.write('{} {}\\n'.format(index_to_word[i], ' '.join(map(str, list(vectors[i, :])))))\n",
    "f.close()\n"
   ]
  },
  {
   "cell_type": "markdown",
   "metadata": {},
   "source": [
    "#### 임베딩 파라미터 확인"
   ]
  },
  {
   "cell_type": "code",
   "execution_count": 43,
   "metadata": {},
   "outputs": [
    {
     "data": {
      "text/plain": [
       "[('good', 0.7470753788948059),\n",
       " ('Good', 0.6885235905647278),\n",
       " ('♡', 0.6646206378936768),\n",
       " ('great', 0.6622002720832825),\n",
       " ('I', 0.6017481684684753),\n",
       " ('very', 0.6009340286254883),\n",
       " ('top', 0.5837702751159668),\n",
       " ('It', 0.5748971700668335),\n",
       " ('♥', 0.5588021278381348),\n",
       " ('best', 0.536775529384613)]"
      ]
     },
     "execution_count": 43,
     "metadata": {},
     "output_type": "execute_result"
    }
   ],
   "source": [
    "from gensim.models.keyedvectors import Word2VecKeyedVectors\n",
    "\n",
    "word_vectors = Word2VecKeyedVectors.load_word2vec_format(Embed_word2vec_file_path, binary=False)\n",
    "word_vectors.similar_by_word(\"love\")\n"
   ]
  },
  {
   "cell_type": "markdown",
   "metadata": {},
   "source": [
    "### 한국어 Word2Vec임베딩 활용하여 성능개선"
   ]
  },
  {
   "cell_type": "markdown",
   "metadata": {},
   "source": [
    "#### 한국어 Word2Vec 모델을 가져와 적용"
   ]
  },
  {
   "cell_type": "code",
   "execution_count": 44,
   "metadata": {},
   "outputs": [
    {
     "name": "stderr",
     "output_type": "stream",
     "text": [
      "/home/aiffel/Downloads/ls/envs/aiffel/lib/python3.7/site-packages/ipykernel_launcher.py:6: DeprecationWarning: Call to deprecated `__getitem__` (Method will be removed in 4.0.0, use self.wv.__getitem__() instead).\n",
      "  \n"
     ]
    },
    {
     "data": {
      "text/plain": [
       "array([ 0.28099054, -0.19049376,  0.31788886, -0.29404902, -0.6012117 ,\n",
       "       -0.25619242,  0.0061479 ,  0.51780385,  0.3608627 , -0.27890292,\n",
       "        0.3753059 ,  0.45682365,  0.25841945,  0.29509434,  0.31509322,\n",
       "        0.53255475, -0.3150408 ,  0.28672394,  0.32292762, -0.11534653,\n",
       "        0.24962434, -0.31804952,  0.02379435,  0.34782323, -0.5428502 ,\n",
       "       -0.31428298,  0.81061304,  0.7245631 ,  0.04309795, -1.0204421 ,\n",
       "        0.10398801,  0.2138965 ,  0.10057439, -0.03146021,  0.0894748 ,\n",
       "       -0.40986905,  0.11873247,  0.2684793 , -0.6372648 ,  0.36586553,\n",
       "       -0.15963972,  0.3209763 , -0.6995127 , -1.1059827 ,  0.37646636,\n",
       "       -0.82615834,  0.12098166, -0.04935855, -0.5623957 ,  0.1068015 ,\n",
       "        0.2640723 ,  0.6015352 ,  0.31571352, -0.37577182, -0.5941042 ,\n",
       "        0.1046523 , -0.16794747,  0.36965755,  0.18888052, -0.18799411,\n",
       "        0.13297085,  0.13900231, -0.25006363, -0.7406368 ,  0.1037019 ,\n",
       "       -0.18334036, -0.17581826,  0.08528292, -0.07013045,  0.4557973 ,\n",
       "        0.37055275, -0.22271334,  0.09749056,  0.10634632,  0.18990633,\n",
       "       -0.09005074, -0.22670963,  0.75300676,  0.13844779, -0.41718212,\n",
       "        0.6000683 , -0.30188912,  0.26127213, -0.3209932 , -0.5287037 ,\n",
       "       -0.1133441 ,  0.08414213, -0.39975765, -0.7438005 ,  0.10611001,\n",
       "       -0.03223223, -0.65717345, -0.39624402, -0.4745818 ,  0.0611662 ,\n",
       "        0.57635117,  0.5629448 ,  0.05996709,  0.57418245,  0.2593086 ,\n",
       "       -0.1843771 ,  0.14862894,  0.03104451, -0.5595105 , -0.3311095 ,\n",
       "       -0.25353086,  0.1952255 , -0.7322556 , -0.1989108 ,  0.01353099,\n",
       "        0.3498427 ,  0.07084652, -0.24956252, -0.42642623, -0.30416694,\n",
       "       -0.05685856, -0.4886381 , -0.17410545,  0.02824506,  0.14894816,\n",
       "        0.05410662,  0.17372012, -0.24593355, -0.6957402 , -0.21098216,\n",
       "        0.17299318, -0.5482991 ,  0.07412893,  0.6804218 ,  0.05489316,\n",
       "        0.05333278,  0.03257329, -0.16544367,  0.98487836,  0.7784035 ,\n",
       "       -0.07689387, -0.31263638, -0.12760893,  0.3472611 , -0.23108876,\n",
       "        0.3307572 ,  0.37202093,  0.5539822 , -0.28727153,  0.77605385,\n",
       "       -0.73754156, -0.32367602, -0.22861145, -0.93935126, -0.4357149 ,\n",
       "        0.09146321,  0.00202421, -0.18067713,  0.0855972 ,  0.6506427 ,\n",
       "       -0.305275  ,  0.2780998 ,  0.6330918 , -0.29751784, -0.17027308,\n",
       "       -0.31517255, -0.3317247 ,  0.02422439, -0.57917964, -0.33995405,\n",
       "       -0.42761254,  0.25798827, -0.34237063, -0.52633345,  0.09533058,\n",
       "       -0.677217  ,  0.05363021,  0.32125086,  0.4909405 , -0.43493816,\n",
       "       -0.09290602,  0.10552456, -0.10498507, -0.35929582,  0.19515191,\n",
       "       -0.40012205,  0.16228692,  0.46461752,  0.2952616 ,  0.25597256,\n",
       "        0.6133663 , -0.41785526,  0.18643484,  0.06804469,  0.87485284,\n",
       "        0.1482679 ,  0.42763233,  0.18914135,  0.20274666, -0.59800595,\n",
       "       -0.07481332, -0.13797177, -0.4698542 , -0.02073322, -0.31658322],\n",
       "      dtype=float32)"
      ]
     },
     "execution_count": 44,
     "metadata": {},
     "output_type": "execute_result"
    }
   ],
   "source": [
    "import os\n",
    "import gensim\n",
    "from gensim.models import KeyedVectors\n",
    "word2vec_path = os.getenv('HOME')+'/aiffel/sentiment_classification/ko.bin'\n",
    "word2vec = gensim.models.Word2Vec.load(word2vec_path)\n",
    "vector = word2vec['강아지']\n",
    "vector"
   ]
  },
  {
   "cell_type": "code",
   "execution_count": 45,
   "metadata": {},
   "outputs": [
    {
     "name": "stderr",
     "output_type": "stream",
     "text": [
      "/home/aiffel/Downloads/ls/envs/aiffel/lib/python3.7/site-packages/ipykernel_launcher.py:1: DeprecationWarning: Call to deprecated `similar_by_word` (Method will be removed in 4.0.0, use self.wv.similar_by_word() instead).\n",
      "  \"\"\"Entry point for launching an IPython kernel.\n"
     ]
    },
    {
     "data": {
      "text/plain": [
       "[('슬픔', 0.7216663360595703),\n",
       " ('행복', 0.6759077310562134),\n",
       " ('절망', 0.6468985676765442),\n",
       " ('기쁨', 0.6458414793014526),\n",
       " ('이별', 0.6334798336029053),\n",
       " ('추억', 0.6320937871932983),\n",
       " ('인생', 0.6216273307800293),\n",
       " ('애정', 0.6206068992614746),\n",
       " ('연인', 0.6186063289642334),\n",
       " ('유혹', 0.5965287685394287)]"
      ]
     },
     "execution_count": 45,
     "metadata": {},
     "output_type": "execute_result"
    }
   ],
   "source": [
    "word2vec.similar_by_word(\"사랑\")"
   ]
  },
  {
   "cell_type": "code",
   "execution_count": 46,
   "metadata": {},
   "outputs": [
    {
     "name": "stderr",
     "output_type": "stream",
     "text": [
      "/home/aiffel/Downloads/ls/envs/aiffel/lib/python3.7/site-packages/ipykernel_launcher.py:8: DeprecationWarning: Call to deprecated `__contains__` (Method will be removed in 4.0.0, use self.wv.__contains__() instead).\n",
      "  \n",
      "/home/aiffel/Downloads/ls/envs/aiffel/lib/python3.7/site-packages/ipykernel_launcher.py:9: DeprecationWarning: Call to deprecated `__getitem__` (Method will be removed in 4.0.0, use self.wv.__getitem__() instead).\n",
      "  if __name__ == '__main__':\n"
     ]
    }
   ],
   "source": [
    "vocab_size = 10000    # 어휘 사전의 크기입니다(10,000개의 단어)\n",
    "word_vector_dim = 200  # 워드 벡터의 차원수 (변경가능한 하이퍼파라미터)\n",
    "\n",
    "embedding_matrix = np.random.rand(vocab_size, word_vector_dim)\n",
    "\n",
    "# embedding_matrix에 Word2Vec 워드벡터를 단어 하나씩마다 차례차례 카피한다.\n",
    "for i in range(4,vocab_size):\n",
    "    if index_to_word[i] in word2vec:\n",
    "        embedding_matrix[i] = word2vec[index_to_word[i]]\n"
   ]
  },
  {
   "cell_type": "markdown",
   "metadata": {},
   "source": [
    "#### 모델 구성"
   ]
  },
  {
   "cell_type": "code",
   "execution_count": 47,
   "metadata": {},
   "outputs": [
    {
     "name": "stdout",
     "output_type": "stream",
     "text": [
      "Model: \"sequential_2\"\n",
      "_________________________________________________________________\n",
      "Layer (type)                 Output Shape              Param #   \n",
      "=================================================================\n",
      "embedding_2 (Embedding)      (None, 41, 200)           2000000   \n",
      "_________________________________________________________________\n",
      "spatial_dropout1d (SpatialDr (None, 41, 200)           0         \n",
      "_________________________________________________________________\n",
      "lstm (LSTM)                  (None, 41, 196)           311248    \n",
      "_________________________________________________________________\n",
      "lstm_1 (LSTM)                (None, 41, 196)           308112    \n",
      "_________________________________________________________________\n",
      "max_pooling1d_2 (MaxPooling1 (None, 20, 196)           0         \n",
      "_________________________________________________________________\n",
      "global_max_pooling1d_2 (Glob (None, 196)               0         \n",
      "_________________________________________________________________\n",
      "dense_4 (Dense)              (None, 784)               154448    \n",
      "_________________________________________________________________\n",
      "dense_5 (Dense)              (None, 784)               615440    \n",
      "_________________________________________________________________\n",
      "dense_6 (Dense)              (None, 1)                 785       \n",
      "=================================================================\n",
      "Total params: 3,390,033\n",
      "Trainable params: 3,390,033\n",
      "Non-trainable params: 0\n",
      "_________________________________________________________________\n"
     ]
    }
   ],
   "source": [
    "from tensorflow.keras.initializers import Constant\n",
    "\n",
    "vocab_size = 10000    # 어휘 사전의 크기입니다(10,000개의 단어)\n",
    "word_vector_dim = 200  # 워드 벡터의 차원수 (변경가능한 하이퍼파라미터)\n",
    "LSTM_UNITS = 196\n",
    "DENSE_HIDDEN_UNITS = 4 * LSTM_UNITS\n",
    "\n",
    "# 모델 구성\n",
    "kor_model = keras.Sequential()\n",
    "kor_model.add(keras.layers.Embedding(vocab_size, \n",
    "                                 word_vector_dim, \n",
    "                                 embeddings_initializer=Constant(embedding_matrix),  # 카피한 임베딩을 여기서 활용\n",
    "                                 input_length=maxlen, \n",
    "                                 trainable=True))   # trainable을 True로 주면 Fine-tuning\n",
    "kor_model.add(keras.layers.SpatialDropout1D(0.4))\n",
    "kor_model.add(keras.layers.LSTM(LSTM_UNITS, return_sequences=True, dropout=0.2, recurrent_dropout=0.2))  \n",
    "kor_model.add(keras.layers.LSTM(LSTM_UNITS, return_sequences=True, dropout=0.2, recurrent_dropout=0.2))  \n",
    "kor_model.add(keras.layers.MaxPooling1D())\n",
    "kor_model.add(keras.layers.GlobalMaxPooling1D())\n",
    "kor_model.add(keras.layers.Dense(DENSE_HIDDEN_UNITS, activation='relu'))\n",
    "kor_model.add(keras.layers.Dense(DENSE_HIDDEN_UNITS, activation='relu'))\n",
    "\n",
    "kor_model.add(keras.layers.Dense(1, activation='sigmoid')) \n",
    "\n",
    "kor_model.summary()"
   ]
  },
  {
   "cell_type": "markdown",
   "metadata": {},
   "source": [
    "#### 모델 훈련 개시"
   ]
  },
  {
   "cell_type": "code",
   "execution_count": 48,
   "metadata": {},
   "outputs": [
    {
     "name": "stdout",
     "output_type": "stream",
     "text": [
      "Epoch 1/10\n",
      "337/337 [==============================] - 102s 294ms/step - loss: 0.6077 - accuracy: 0.6390 - val_loss: 0.4198 - val_accuracy: 0.8027\n",
      "Epoch 2/10\n",
      "337/337 [==============================] - 102s 302ms/step - loss: 0.4390 - accuracy: 0.7905 - val_loss: 0.3570 - val_accuracy: 0.8396\n",
      "Epoch 3/10\n",
      "337/337 [==============================] - 98s 290ms/step - loss: 0.3722 - accuracy: 0.8313 - val_loss: 0.3487 - val_accuracy: 0.8475\n",
      "Epoch 4/10\n",
      "337/337 [==============================] - 98s 290ms/step - loss: 0.3470 - accuracy: 0.8432 - val_loss: 0.3337 - val_accuracy: 0.8533\n",
      "Epoch 5/10\n",
      "337/337 [==============================] - 100s 297ms/step - loss: 0.3240 - accuracy: 0.8572 - val_loss: 0.3358 - val_accuracy: 0.8557\n",
      "Epoch 6/10\n",
      "337/337 [==============================] - 99s 294ms/step - loss: 0.3099 - accuracy: 0.8634 - val_loss: 0.3306 - val_accuracy: 0.8591\n",
      "Epoch 7/10\n",
      "337/337 [==============================] - 99s 293ms/step - loss: 0.2936 - accuracy: 0.8701 - val_loss: 0.3359 - val_accuracy: 0.8574\n",
      "Epoch 8/10\n",
      "337/337 [==============================] - 100s 297ms/step - loss: 0.2867 - accuracy: 0.8769 - val_loss: 0.3272 - val_accuracy: 0.8601\n",
      "Epoch 9/10\n",
      "337/337 [==============================] - 98s 291ms/step - loss: 0.2747 - accuracy: 0.8805 - val_loss: 0.3332 - val_accuracy: 0.8622\n",
      "Epoch 10/10\n",
      "337/337 [==============================] - 101s 301ms/step - loss: 0.2693 - accuracy: 0.8843 - val_loss: 0.3320 - val_accuracy: 0.8596\n"
     ]
    }
   ],
   "source": [
    "callbacks = keras.callbacks.EarlyStopping(monitor='val_loss', patience=10)\n",
    "\n",
    "kor_model.compile(optimizer='adam',\n",
    "              loss='binary_crossentropy',\n",
    "              metrics=['accuracy'])\n",
    "              \n",
    "epochs=10  # 몇 epoch를 훈련하면 좋을지 결과를 보면서 바꾸어 봅시다. \n",
    "\n",
    "kor_history = kor_model.fit(partial_X_train,\n",
    "                    partial_y_train,\n",
    "                    epochs=epochs,\n",
    "                    batch_size=256,\n",
    "                    callbacks=callbacks,\n",
    "                    validation_data=(X_val, y_val),\n",
    "                    verbose=1)"
   ]
  },
  {
   "cell_type": "code",
   "execution_count": 49,
   "metadata": {},
   "outputs": [
    {
     "name": "stdout",
     "output_type": "stream",
     "text": [
      "1537/1537 - 25s - loss: 0.3376 - accuracy: 0.8575\n",
      "[0.33761119842529297, 0.857538104057312]\n"
     ]
    }
   ],
   "source": [
    "results = kor_model.evaluate(X_test,  y_test, verbose=2)\n",
    "\n",
    "print(results)"
   ]
  },
  {
   "cell_type": "markdown",
   "metadata": {},
   "source": [
    "#### Loss, Accuracy 그래프 시각화"
   ]
  },
  {
   "cell_type": "code",
   "execution_count": 50,
   "metadata": {},
   "outputs": [
    {
     "name": "stdout",
     "output_type": "stream",
     "text": [
      "dict_keys(['loss', 'accuracy', 'val_loss', 'val_accuracy'])\n"
     ]
    }
   ],
   "source": [
    "kor_history_dict = kor_history.history\n",
    "print(kor_history_dict.keys())"
   ]
  },
  {
   "cell_type": "code",
   "execution_count": 51,
   "metadata": {},
   "outputs": [
    {
     "data": {
      "image/png": "[encoded data removed]",
      "text/plain": [
       "<Figure size 432x288 with 1 Axes>"
      ]
     },
     "metadata": {
      "needs_background": "light"
     },
     "output_type": "display_data"
    }
   ],
   "source": [
    "acc = kor_history_dict['accuracy']\n",
    "val_acc = kor_history_dict['val_accuracy']\n",
    "loss = kor_history_dict['loss']\n",
    "val_loss = kor_history_dict['val_loss']\n",
    "\n",
    "epochs = range(1, len(acc) + 1)\n",
    "\n",
    "# \"bo\"는 \"파란색 점\"입니다\n",
    "plt.plot(epochs, loss, 'bo', label='Training loss')\n",
    "# b는 \"파란 실선\"입니다\n",
    "plt.plot(epochs, val_loss, 'b', label='Validation loss')\n",
    "plt.title('Training and validation loss')\n",
    "plt.xlabel('Epochs')\n",
    "plt.ylabel('Loss')\n",
    "plt.legend()\n",
    "\n",
    "plt.show()"
   ]
  },
  {
   "cell_type": "code",
   "execution_count": 53,
   "metadata": {},
   "outputs": [
    {
     "data": {
      "image/png": "[encoded data removed]",
      "text/plain": [
       "<Figure size 432x288 with 1 Axes>"
      ]
     },
     "metadata": {
      "needs_background": "light"
     },
     "output_type": "display_data"
    }
   ],
   "source": [
    "plt.clf()   # 그림을 초기화합니다\n",
    "\n",
    "plt.plot(epochs, acc, 'bo', label='Training accuracy')\n",
    "plt.plot(epochs, val_acc, 'b', label='Validation accuracy')\n",
    "plt.title('Training and validation accuracy')\n",
    "plt.xlabel('Epochs')\n",
    "plt.ylabel('Accuracy')\n",
    "plt.legend()\n",
    "\n",
    "plt.show()\n"
   ]
  },
  {
   "cell_type": "markdown",
   "metadata": {},
   "source": [
    "### 느낀점(회고)\n",
    "- 1D CNN Model의 Test Accuracy: 0.7994\n",
    "- Google Embedding Model의 Test Accuracy: 0.8099\n",
    "- Kor Embedding Model의 Test Accuracy: 0.8575\n",
    "LSTM을 2개 사용하고 spatialDropout1D를 추가하고, LSTM안에 dropout과 recurrent_dropout을 추가했더니 성능이 더욱 오른 모습을 볼 수 있었습니다."
   ]
  },
  {
   "cell_type": "code",
   "execution_count": null,
   "metadata": {},
   "outputs": [],
   "source": []
  },
  {
   "cell_type": "code",
   "execution_count": null,
   "metadata": {},
   "outputs": [],
   "source": []
  }
 ],
 "metadata": {
  "kernelspec": {
   "display_name": "aiffel",
   "language": "python",
   "name": "aiffel"
  },
  "language_info": {
   "codemirror_mode": {
    "name": "ipython",
    "version": 3
   },
   "file_extension": ".py",
   "mimetype": "text/x-python",
   "name": "python",
   "nbconvert_exporter": "python",
   "pygments_lexer": "ipython3",
   "version": "3.7.9"
  }
 },
 "nbformat": 4,
 "nbformat_minor": 4
}
